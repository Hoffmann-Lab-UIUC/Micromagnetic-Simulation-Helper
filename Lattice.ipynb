{
 "cells": [
  {
   "cell_type": "code",
   "execution_count": 1,
   "metadata": {},
   "outputs": [],
   "source": [
    "from mumax_helper import *\n",
    "import matplotlib.pyplot as plt \n",
    "import numpy as np "
   ]
  },
  {
   "cell_type": "code",
   "execution_count": 42,
   "metadata": {},
   "outputs": [],
   "source": [
    "# NUMERICAL PARAMETERS RELEVANT FOR THE SPECTRUM ANALYSIS\n",
    "fmax = 5e9        # maximum frequency (in Hz) of the sinc pulse\n",
    "T = 50e-9        # simulation time (longer -> better frequency resolution)\n",
    "dt = 1/(2*fmax)  # the sample time (Nyquist theorem taken into account)\n",
    "side_length = 300e-9  # diameter of the circle domain\n",
    "fLow = 1.98e9\n",
    "fHigh = 3.11e9\n",
    "\n",
    "\n",
    "# Note that this is a format string, this means that the statements inside the\n",
    "# curly brackets get evaluated by python. In this way, we insert the values of\n",
    "# the variables above in the script.\n",
    "\n",
    "def resonance_script(field, freq):\n",
    "\n",
    "    script = f\"\"\"\n",
    "        N := 256\n",
    "        c := 2e-9\n",
    "        d := 40e-9\n",
    "        setgridsize(N, N, 1)\n",
    "        setcellsize(c, c, d)\n",
    "\n",
    "        setGeom(circle(N*c))\n",
    "\n",
    "        // define grains with region number 0-255\n",
    "        grainSize  := 100e-9  // m\n",
    "        randomSeed := 1234567\n",
    "        maxRegion  := 255\n",
    "        ext_makegrains(grainSize, maxRegion, randomSeed)\n",
    "\n",
    "        defregion(256, circle(N*c).inverse()) // region 256 is outside, not really needed\n",
    "\n",
    "        K := 1e6\n",
    "        Msat = 1e6\n",
    "        Aex = 10e-12\n",
    "        Dind = 2.2e-3\n",
    "        Ku1 = K\n",
    "        AnisU = vector(0,0,1)\n",
    "        alpha = 0.001\n",
    "        m = NeelSkyrmion(1,-1)\n",
    "\n",
    "        // set random parameters per region\n",
    "        for i:=0; i<maxRegion; i++{{\n",
    "            // random 10% anisotropy variation\n",
    "            Ku1.SetRegion(i, K + randNorm() * 0.1 * K)\n",
    "            //m.SetRegion(i, NeelSkyrmion(1,-1))\n",
    "            m.SetRegion(i, NeelSkyrmion(1,-1))\n",
    "\n",
    "        }}\n",
    "\n",
    "        m.SetRegion(50,NeelSkyrmion(1,-1))\n",
    "\n",
    "        B_ext = vector(0,0,{field}*sin({freq}*2*pi*t))\n",
    "\n",
    "        minimize()\n",
    "        save(regions)\n",
    "        save(Kc1)\n",
    "        save(m)\n",
    "        run({T})\n",
    "    \"\"\"\n",
    "\n",
    "    return script\n",
    "\n",
    "\n",
    "table2, fields2 = run_mumax3(resonance_script(.001, fmax),\n",
    "                             \"Lattice Rotation\")\n"
   ]
  },
  {
   "cell_type": "code",
   "execution_count": 23,
   "metadata": {},
   "outputs": [
    {
     "data": {
      "text/plain": [
       "<matplotlib.image.AxesImage at 0x1f93fdfcfd0>"
      ]
     },
     "execution_count": 23,
     "metadata": {},
     "output_type": "execute_result"
    },
    {
     "data": {
      "image/png": "[encoded data removed]",
      "text/plain": [
       "<Figure size 432x288 with 1 Axes>"
      ]
     },
     "metadata": {
      "needs_background": "light"
     },
     "output_type": "display_data"
    }
   ],
   "source": [
    "region = np.load(r\"C:\\Users\\foile\\OneDrive - University of Illinois - Urbana\\Research\\Calculations\\Lattice Rotation.out\\regions000000.npy\")\n",
    "plt.imshow(region[0,0])"
   ]
  }
 ],
 "metadata": {
  "interpreter": {
   "hash": "4340aed1c3a275fee121b1c894382522135f516ca8b54ef64140730abdbc4bd8"
  },
  "kernelspec": {
   "display_name": "Python 3.9.7 ('base')",
   "language": "python",
   "name": "python3"
  },
  "language_info": {
   "codemirror_mode": {
    "name": "ipython",
    "version": 3
   },
   "file_extension": ".py",
   "mimetype": "text/x-python",
   "name": "python",
   "nbconvert_exporter": "python",
   "pygments_lexer": "ipython3",
   "version": "3.9.7"
  },
  "orig_nbformat": 4
 },
 "nbformat": 4,
 "nbformat_minor": 2
}
